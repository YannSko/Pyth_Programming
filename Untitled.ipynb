{
 "cells": [
  {
   "cell_type": "code",
   "execution_count": 2,
   "id": "f6b39d4c-9d1e-4341-94f6-7090abaee43a",
   "metadata": {},
   "outputs": [],
   "source": [
    "class list_chained:\n",
    "    def __init__(self, first_data):\n",
    "        self.first_node = Node(first_data)\n",
    "        self.last_node = self.first_node\n",
    "        self.size = 1\n",
    "        \n",
    "    def append(self,data):\n",
    "        self.last_node.next_node = Node(data)\n",
    "        self.last_node = self.last_node.next_node\n",
    "        self.size +=1\n",
    "    def insert_first(self):\n",
    "        current_node = Node(data)\n",
    "        current_node.next_node = self.first_node\n",
    "        self.first_node = current_node\n",
    "        self.size +=1\n",
    "    def size(self):\n",
    "        return self.size\n",
    "    \n",
    "    def insert(self, indice, data):\n",
    "        current_node = self.first_node\n",
    "        i = 1 \n",
    "        while indice > i:\n",
    "            current_node = current_node.next_node\n",
    "            i += 1\n",
    "            new_node = Node(data)\n",
    "            new_node.next_node = current_node.next_node\n",
    "            current_node.next_node = new_node\n",
    "            self.size += 1\n",
    "            \n",
    "        \n",
    "class Node:\n",
    "    def __init__(self,data):\n",
    "        self.data = data\n",
    "        self.next_node = None\n",
    "\n",
    "L = list_chained(5)"
   ]
  },
  {
   "cell_type": "code",
   "execution_count": 3,
   "id": "37b8d71d-d42e-4f06-9de9-ba9ceb0ff3b1",
   "metadata": {},
   "outputs": [
    {
     "ename": "RuntimeError",
     "evalue": "asyncio.run() cannot be called from a running event loop",
     "output_type": "error",
     "traceback": [
      "\u001b[1;31m---------------------------------------------------------------------------\u001b[0m",
      "\u001b[1;31mRuntimeError\u001b[0m                              Traceback (most recent call last)",
      "\u001b[1;32m~\\AppData\\Local\\Temp\\ipykernel_22648\\3138943760.py\u001b[0m in \u001b[0;36m<module>\u001b[1;34m\u001b[0m\n\u001b[0;32m      3\u001b[0m \u001b[0mclient\u001b[0m \u001b[1;33m=\u001b[0m \u001b[0mcommands\u001b[0m\u001b[1;33m.\u001b[0m\u001b[0mBot\u001b[0m\u001b[1;33m(\u001b[0m\u001b[0mcommand_prefix\u001b[0m\u001b[1;33m=\u001b[0m\u001b[1;34m\"!\"\u001b[0m\u001b[1;33m,\u001b[0m \u001b[0mintents\u001b[0m \u001b[1;33m=\u001b[0m \u001b[0mintents\u001b[0m\u001b[1;33m)\u001b[0m\u001b[1;33m\u001b[0m\u001b[1;33m\u001b[0m\u001b[0m\n\u001b[0;32m      4\u001b[0m \u001b[1;33m\u001b[0m\u001b[0m\n\u001b[1;32m----> 5\u001b[1;33m \u001b[0mclient\u001b[0m\u001b[1;33m.\u001b[0m\u001b[0mrun\u001b[0m\u001b[1;33m(\u001b[0m\u001b[1;34m\"MTA5MTI2Mjc0NjI1MjgwNDEyNg.Gsebrp.cJdD2YSX_V6-VC_RuX39NwIxK8PD9INRiq2eSM\"\u001b[0m\u001b[1;33m)\u001b[0m\u001b[1;33m\u001b[0m\u001b[1;33m\u001b[0m\u001b[0m\n\u001b[0m",
      "\u001b[1;32m~\\anaconda3\\lib\\site-packages\\discord\\client.py\u001b[0m in \u001b[0;36mrun\u001b[1;34m(self, token, reconnect, log_handler, log_formatter, log_level, root_logger)\u001b[0m\n\u001b[0;32m    858\u001b[0m \u001b[1;33m\u001b[0m\u001b[0m\n\u001b[0;32m    859\u001b[0m         \u001b[1;32mtry\u001b[0m\u001b[1;33m:\u001b[0m\u001b[1;33m\u001b[0m\u001b[1;33m\u001b[0m\u001b[0m\n\u001b[1;32m--> 860\u001b[1;33m             \u001b[0masyncio\u001b[0m\u001b[1;33m.\u001b[0m\u001b[0mrun\u001b[0m\u001b[1;33m(\u001b[0m\u001b[0mrunner\u001b[0m\u001b[1;33m(\u001b[0m\u001b[1;33m)\u001b[0m\u001b[1;33m)\u001b[0m\u001b[1;33m\u001b[0m\u001b[1;33m\u001b[0m\u001b[0m\n\u001b[0m\u001b[0;32m    861\u001b[0m         \u001b[1;32mexcept\u001b[0m \u001b[0mKeyboardInterrupt\u001b[0m\u001b[1;33m:\u001b[0m\u001b[1;33m\u001b[0m\u001b[1;33m\u001b[0m\u001b[0m\n\u001b[0;32m    862\u001b[0m             \u001b[1;31m# nothing to do here\u001b[0m\u001b[1;33m\u001b[0m\u001b[1;33m\u001b[0m\u001b[0m\n",
      "\u001b[1;32m~\\anaconda3\\lib\\asyncio\\runners.py\u001b[0m in \u001b[0;36mrun\u001b[1;34m(main, debug)\u001b[0m\n\u001b[0;32m     31\u001b[0m     \"\"\"\n\u001b[0;32m     32\u001b[0m     \u001b[1;32mif\u001b[0m \u001b[0mevents\u001b[0m\u001b[1;33m.\u001b[0m\u001b[0m_get_running_loop\u001b[0m\u001b[1;33m(\u001b[0m\u001b[1;33m)\u001b[0m \u001b[1;32mis\u001b[0m \u001b[1;32mnot\u001b[0m \u001b[1;32mNone\u001b[0m\u001b[1;33m:\u001b[0m\u001b[1;33m\u001b[0m\u001b[1;33m\u001b[0m\u001b[0m\n\u001b[1;32m---> 33\u001b[1;33m         raise RuntimeError(\n\u001b[0m\u001b[0;32m     34\u001b[0m             \"asyncio.run() cannot be called from a running event loop\")\n\u001b[0;32m     35\u001b[0m \u001b[1;33m\u001b[0m\u001b[0m\n",
      "\u001b[1;31mRuntimeError\u001b[0m: asyncio.run() cannot be called from a running event loop"
     ]
    }
   ],
   "source": []
  },
  {
   "cell_type": "code",
   "execution_count": null,
   "id": "bc8101bf-e93b-4c8c-9bab-639e5f292076",
   "metadata": {},
   "outputs": [],
   "source": []
  }
 ],
 "metadata": {
  "kernelspec": {
   "display_name": "Python 3 (ipykernel)",
   "language": "python",
   "name": "python3"
  },
  "language_info": {
   "codemirror_mode": {
    "name": "ipython",
    "version": 3
   },
   "file_extension": ".py",
   "mimetype": "text/x-python",
   "name": "python",
   "nbconvert_exporter": "python",
   "pygments_lexer": "ipython3",
   "version": "3.9.13"
  }
 },
 "nbformat": 4,
 "nbformat_minor": 5
}
